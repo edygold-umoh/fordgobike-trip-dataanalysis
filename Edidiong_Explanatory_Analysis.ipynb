{
 "cells": [
  {
   "cell_type": "markdown",
   "metadata": {
    "slideshow": {
     "slide_type": "slide"
    }
   },
   "source": [
    "# Part II - Fordgobike_Data_Explanatory_Presentation\n",
    "\n",
    "## Edidiong Godwin Umoh \n",
    "\n",
    "\n",
    "### Let's examine the duration of trips between stations and other features in the dataset that may affect it."
   ]
  },
  {
   "cell_type": "markdown",
   "metadata": {
    "slideshow": {
     "slide_type": "slide"
    }
   },
   "source": [
    "## Investigation Overview:\n",
    "\n",
    "> The focus of this investigation is the duration of trips between stations in a Ford GoBike sharing event. The analysis will utilize a dataset containing information on bike trips between stations, including features such as member birth year, subscriber type, and longitude and latitude data. Additional columns, including distance between stations, speed, and member age, were generated to facilitate analysis.\n",
    "\n",
    "## Dataset Overview:\n",
    "\n",
    "> The dataset used for this investigation provides information on bike trips between stations in a bike sharing event. It includes features such as member birth year, subscriber type, longitude and latitude data, and other relevant trip details. To further facilitate the analysis, additional columns were generated, such as distance between stations, speed, and member age."
   ]
  },
  {
   "cell_type": "code",
   "execution_count": 1,
   "metadata": {
    "slideshow": {
     "slide_type": "skip"
    }
   },
   "outputs": [],
   "source": [
    "# import all packages and set plots to be embedded inline\n",
    "import numpy as np\n",
    "import pandas as pd\n",
    "import matplotlib.pyplot as plt\n",
    "import seaborn as sns\n",
    "\n",
    "%matplotlib inline"
   ]
  },
  {
   "cell_type": "code",
   "execution_count": 2,
   "metadata": {
    "slideshow": {
     "slide_type": "skip"
    }
   },
   "outputs": [],
   "source": [
    "# Load in the dataset using pandas\n",
    "df = pd.read_csv(\"201902-fordgobike-tripdata.csv\")"
   ]
  },
  {
   "cell_type": "code",
   "execution_count": 3,
   "metadata": {
    "slideshow": {
     "slide_type": "skip"
    }
   },
   "outputs": [],
   "source": [
    "# Dropping all Empty rows\n",
    "df.dropna(inplace=True)"
   ]
  },
  {
   "cell_type": "code",
   "execution_count": 4,
   "metadata": {
    "slideshow": {
     "slide_type": "skip"
    }
   },
   "outputs": [],
   "source": [
    "## to calculate the distance between the two geolocations\n",
    "import haversine as hs\n",
    "from haversine import Unit"
   ]
  },
  {
   "cell_type": "code",
   "execution_count": 5,
   "metadata": {
    "slideshow": {
     "slide_type": "skip"
    }
   },
   "outputs": [],
   "source": [
    "def haversine(lat1, long1, lat2, long2):\n",
    "    \"\"\"\n",
    "    This function takes in the two locations by their longitude and lattitude then\n",
    "    uses the haversine module to calculate the distance between them\n",
    "    \"\"\"\n",
    "    loc1 = (lat1, long1)\n",
    "    loc2 = (lat2, long2)\n",
    "    \n",
    "    \n",
    "    \n",
    "    return hs.haversine(loc1, loc2, unit=Unit.MILES)"
   ]
  },
  {
   "cell_type": "code",
   "execution_count": 6,
   "metadata": {
    "slideshow": {
     "slide_type": "skip"
    }
   },
   "outputs": [],
   "source": [
    "# Calculating the distance(in miles) between the various start and end points\n",
    "df['distance_miles'] = df.apply( lambda x : haversine(x['start_station_latitude'], x['start_station_longitude'],  x['end_station_latitude'], x['end_station_longitude']), axis=1)"
   ]
  },
  {
   "cell_type": "code",
   "execution_count": 7,
   "metadata": {
    "slideshow": {
     "slide_type": "skip"
    }
   },
   "outputs": [],
   "source": [
    "# Converting the duration of the trips in seconds to hours (1 hour = 3600s)\n",
    "df['duration_hrs'] = df.apply(lambda x : x['duration_sec'] / 3600, axis=1)"
   ]
  },
  {
   "cell_type": "markdown",
   "metadata": {
    "slideshow": {
     "slide_type": "skip"
    }
   },
   "source": [
    "#### Since we know the distance and the time for the trips, then we can calculate the speed of the Journey.\n",
    "\n",
    "speed = Distance / Time"
   ]
  },
  {
   "cell_type": "code",
   "execution_count": 8,
   "metadata": {
    "slideshow": {
     "slide_type": "skip"
    }
   },
   "outputs": [],
   "source": [
    "# Working out the speed\n",
    "df['speed_mph'] = df['distance_miles'] / df['duration_hrs']\n",
    "\n",
    "# Converting the start time and end times into datetime objects\n",
    "df['start_time'] = pd.to_datetime(df['start_time'])\n",
    "df['end_time'] = pd.to_datetime(df['end_time'])\n",
    "\n",
    "# Converting usertype, member_gender and bikeshare_for_all_trip into categorical data\n",
    "df[\"user_type\"] = df.user_type.astype('category')\n",
    "df[\"member_gender\"] = df.member_gender.astype('category')\n",
    "df[\"bike_share_for_all_trip\"] = df.bike_share_for_all_trip.astype('category')\n",
    "\n",
    "# Getting member's age from their birth year\n",
    "df[\"member_age\"] = 2019 - df[\"member_birth_year\"]\n",
    "\n",
    "# Start time  day of week\n",
    "df['day_of_ride'] = df['start_time'].dt.day_name()\n",
    "\n",
    "# Hour of Ride\n",
    "df[\"start_hour\"] = df[\"start_time\"].dt.hour"
   ]
  },
  {
   "cell_type": "code",
   "execution_count": 9,
   "metadata": {
    "slideshow": {
     "slide_type": "skip"
    }
   },
   "outputs": [
    {
     "data": {
      "text/html": [
       "<div>\n",
       "<style scoped>\n",
       "    .dataframe tbody tr th:only-of-type {\n",
       "        vertical-align: middle;\n",
       "    }\n",
       "\n",
       "    .dataframe tbody tr th {\n",
       "        vertical-align: top;\n",
       "    }\n",
       "\n",
       "    .dataframe thead th {\n",
       "        text-align: right;\n",
       "    }\n",
       "</style>\n",
       "<table border=\"1\" class=\"dataframe\">\n",
       "  <thead>\n",
       "    <tr style=\"text-align: right;\">\n",
       "      <th></th>\n",
       "      <th>duration_sec</th>\n",
       "      <th>start_time</th>\n",
       "      <th>end_time</th>\n",
       "      <th>start_station_id</th>\n",
       "      <th>start_station_name</th>\n",
       "      <th>start_station_latitude</th>\n",
       "      <th>start_station_longitude</th>\n",
       "      <th>end_station_id</th>\n",
       "      <th>end_station_name</th>\n",
       "      <th>end_station_latitude</th>\n",
       "      <th>...</th>\n",
       "      <th>user_type</th>\n",
       "      <th>member_birth_year</th>\n",
       "      <th>member_gender</th>\n",
       "      <th>bike_share_for_all_trip</th>\n",
       "      <th>distance_miles</th>\n",
       "      <th>duration_hrs</th>\n",
       "      <th>speed_mph</th>\n",
       "      <th>member_age</th>\n",
       "      <th>day_of_ride</th>\n",
       "      <th>start_hour</th>\n",
       "    </tr>\n",
       "  </thead>\n",
       "  <tbody>\n",
       "    <tr>\n",
       "      <th>123621</th>\n",
       "      <td>729</td>\n",
       "      <td>2019-02-11 09:08:48.899</td>\n",
       "      <td>2019-02-11 09:20:58.300</td>\n",
       "      <td>92.0</td>\n",
       "      <td>Mission Bay Kids Park</td>\n",
       "      <td>37.772301</td>\n",
       "      <td>-122.393028</td>\n",
       "      <td>3.0</td>\n",
       "      <td>Powell St BART Station (Market St at 4th St)</td>\n",
       "      <td>37.786375</td>\n",
       "      <td>...</td>\n",
       "      <td>Subscriber</td>\n",
       "      <td>1995.0</td>\n",
       "      <td>Male</td>\n",
       "      <td>No</td>\n",
       "      <td>1.168913</td>\n",
       "      <td>0.202500</td>\n",
       "      <td>5.772410</td>\n",
       "      <td>24.0</td>\n",
       "      <td>Monday</td>\n",
       "      <td>9</td>\n",
       "    </tr>\n",
       "    <tr>\n",
       "      <th>31555</th>\n",
       "      <td>434</td>\n",
       "      <td>2019-02-24 16:31:02.113</td>\n",
       "      <td>2019-02-24 16:38:16.755</td>\n",
       "      <td>284.0</td>\n",
       "      <td>Yerba Buena Center for the Arts (Howard St at ...</td>\n",
       "      <td>37.784872</td>\n",
       "      <td>-122.400876</td>\n",
       "      <td>50.0</td>\n",
       "      <td>2nd St at Townsend St</td>\n",
       "      <td>37.780526</td>\n",
       "      <td>...</td>\n",
       "      <td>Subscriber</td>\n",
       "      <td>1987.0</td>\n",
       "      <td>Male</td>\n",
       "      <td>No</td>\n",
       "      <td>0.651495</td>\n",
       "      <td>0.120556</td>\n",
       "      <td>5.404110</td>\n",
       "      <td>32.0</td>\n",
       "      <td>Sunday</td>\n",
       "      <td>16</td>\n",
       "    </tr>\n",
       "    <tr>\n",
       "      <th>37807</th>\n",
       "      <td>218</td>\n",
       "      <td>2019-02-23 13:24:34.773</td>\n",
       "      <td>2019-02-23 13:28:12.881</td>\n",
       "      <td>142.0</td>\n",
       "      <td>Guerrero Park</td>\n",
       "      <td>37.745739</td>\n",
       "      <td>-122.422140</td>\n",
       "      <td>134.0</td>\n",
       "      <td>Valencia St at 24th St</td>\n",
       "      <td>37.752428</td>\n",
       "      <td>...</td>\n",
       "      <td>Subscriber</td>\n",
       "      <td>1984.0</td>\n",
       "      <td>Male</td>\n",
       "      <td>No</td>\n",
       "      <td>0.469494</td>\n",
       "      <td>0.060556</td>\n",
       "      <td>7.753117</td>\n",
       "      <td>35.0</td>\n",
       "      <td>Saturday</td>\n",
       "      <td>13</td>\n",
       "    </tr>\n",
       "    <tr>\n",
       "      <th>162270</th>\n",
       "      <td>631</td>\n",
       "      <td>2019-02-05 12:06:58.127</td>\n",
       "      <td>2019-02-05 12:17:29.997</td>\n",
       "      <td>67.0</td>\n",
       "      <td>San Francisco Caltrain Station 2  (Townsend St...</td>\n",
       "      <td>37.776639</td>\n",
       "      <td>-122.395526</td>\n",
       "      <td>50.0</td>\n",
       "      <td>2nd St at Townsend St</td>\n",
       "      <td>37.780526</td>\n",
       "      <td>...</td>\n",
       "      <td>Subscriber</td>\n",
       "      <td>1993.0</td>\n",
       "      <td>Male</td>\n",
       "      <td>No</td>\n",
       "      <td>0.392369</td>\n",
       "      <td>0.175278</td>\n",
       "      <td>2.238557</td>\n",
       "      <td>26.0</td>\n",
       "      <td>Tuesday</td>\n",
       "      <td>12</td>\n",
       "    </tr>\n",
       "    <tr>\n",
       "      <th>29150</th>\n",
       "      <td>1288</td>\n",
       "      <td>2019-02-25 07:36:49.824</td>\n",
       "      <td>2019-02-25 07:58:18.114</td>\n",
       "      <td>146.0</td>\n",
       "      <td>30th St at San Jose Ave</td>\n",
       "      <td>37.742314</td>\n",
       "      <td>-122.423180</td>\n",
       "      <td>104.0</td>\n",
       "      <td>4th St at 16th St</td>\n",
       "      <td>37.767045</td>\n",
       "      <td>...</td>\n",
       "      <td>Subscriber</td>\n",
       "      <td>1979.0</td>\n",
       "      <td>Female</td>\n",
       "      <td>No</td>\n",
       "      <td>2.458093</td>\n",
       "      <td>0.357778</td>\n",
       "      <td>6.870446</td>\n",
       "      <td>40.0</td>\n",
       "      <td>Monday</td>\n",
       "      <td>7</td>\n",
       "    </tr>\n",
       "    <tr>\n",
       "      <th>32099</th>\n",
       "      <td>3681</td>\n",
       "      <td>2019-02-24 14:17:14.488</td>\n",
       "      <td>2019-02-24 15:18:36.026</td>\n",
       "      <td>377.0</td>\n",
       "      <td>Fell St at Stanyan St</td>\n",
       "      <td>37.771917</td>\n",
       "      <td>-122.453704</td>\n",
       "      <td>377.0</td>\n",
       "      <td>Fell St at Stanyan St</td>\n",
       "      <td>37.771917</td>\n",
       "      <td>...</td>\n",
       "      <td>Customer</td>\n",
       "      <td>1976.0</td>\n",
       "      <td>Male</td>\n",
       "      <td>No</td>\n",
       "      <td>0.000000</td>\n",
       "      <td>1.022500</td>\n",
       "      <td>0.000000</td>\n",
       "      <td>43.0</td>\n",
       "      <td>Sunday</td>\n",
       "      <td>14</td>\n",
       "    </tr>\n",
       "  </tbody>\n",
       "</table>\n",
       "<p>6 rows × 22 columns</p>\n",
       "</div>"
      ],
      "text/plain": [
       "        duration_sec              start_time                end_time  \\\n",
       "123621           729 2019-02-11 09:08:48.899 2019-02-11 09:20:58.300   \n",
       "31555            434 2019-02-24 16:31:02.113 2019-02-24 16:38:16.755   \n",
       "37807            218 2019-02-23 13:24:34.773 2019-02-23 13:28:12.881   \n",
       "162270           631 2019-02-05 12:06:58.127 2019-02-05 12:17:29.997   \n",
       "29150           1288 2019-02-25 07:36:49.824 2019-02-25 07:58:18.114   \n",
       "32099           3681 2019-02-24 14:17:14.488 2019-02-24 15:18:36.026   \n",
       "\n",
       "        start_station_id                                 start_station_name  \\\n",
       "123621              92.0                              Mission Bay Kids Park   \n",
       "31555              284.0  Yerba Buena Center for the Arts (Howard St at ...   \n",
       "37807              142.0                                      Guerrero Park   \n",
       "162270              67.0  San Francisco Caltrain Station 2  (Townsend St...   \n",
       "29150              146.0                            30th St at San Jose Ave   \n",
       "32099              377.0                              Fell St at Stanyan St   \n",
       "\n",
       "        start_station_latitude  start_station_longitude  end_station_id  \\\n",
       "123621               37.772301              -122.393028             3.0   \n",
       "31555                37.784872              -122.400876            50.0   \n",
       "37807                37.745739              -122.422140           134.0   \n",
       "162270               37.776639              -122.395526            50.0   \n",
       "29150                37.742314              -122.423180           104.0   \n",
       "32099                37.771917              -122.453704           377.0   \n",
       "\n",
       "                                    end_station_name  end_station_latitude  \\\n",
       "123621  Powell St BART Station (Market St at 4th St)             37.786375   \n",
       "31555                          2nd St at Townsend St             37.780526   \n",
       "37807                         Valencia St at 24th St             37.752428   \n",
       "162270                         2nd St at Townsend St             37.780526   \n",
       "29150                              4th St at 16th St             37.767045   \n",
       "32099                          Fell St at Stanyan St             37.771917   \n",
       "\n",
       "        ...   user_type  member_birth_year member_gender  \\\n",
       "123621  ...  Subscriber             1995.0          Male   \n",
       "31555   ...  Subscriber             1987.0          Male   \n",
       "37807   ...  Subscriber             1984.0          Male   \n",
       "162270  ...  Subscriber             1993.0          Male   \n",
       "29150   ...  Subscriber             1979.0        Female   \n",
       "32099   ...    Customer             1976.0          Male   \n",
       "\n",
       "        bike_share_for_all_trip distance_miles duration_hrs  speed_mph  \\\n",
       "123621                       No       1.168913     0.202500   5.772410   \n",
       "31555                        No       0.651495     0.120556   5.404110   \n",
       "37807                        No       0.469494     0.060556   7.753117   \n",
       "162270                       No       0.392369     0.175278   2.238557   \n",
       "29150                        No       2.458093     0.357778   6.870446   \n",
       "32099                        No       0.000000     1.022500   0.000000   \n",
       "\n",
       "        member_age  day_of_ride  start_hour  \n",
       "123621        24.0       Monday           9  \n",
       "31555         32.0       Sunday          16  \n",
       "37807         35.0     Saturday          13  \n",
       "162270        26.0      Tuesday          12  \n",
       "29150         40.0       Monday           7  \n",
       "32099         43.0       Sunday          14  \n",
       "\n",
       "[6 rows x 22 columns]"
      ]
     },
     "execution_count": 9,
     "metadata": {},
     "output_type": "execute_result"
    }
   ],
   "source": [
    "df.sample(6)"
   ]
  },
  {
   "cell_type": "markdown",
   "metadata": {
    "slideshow": {
     "slide_type": "slide"
    }
   },
   "source": [
    "### Distribution of rides by User Type"
   ]
  },
  {
   "cell_type": "code",
   "execution_count": 10,
   "metadata": {
    "slideshow": {
     "slide_type": "subslide"
    }
   },
   "outputs": [
    {
     "data": {
      "image/png": "[encoded data removed]",
      "text/plain": [
       "<Figure size 720x504 with 1 Axes>"
      ]
     },
     "metadata": {
      "needs_background": "light"
     },
     "output_type": "display_data"
    }
   ],
   "source": [
    "plt.figure(figsize = (10, 7))\n",
    "ax = sns.countplot(data = df, x = 'user_type',  color=sns.color_palette()[0], order=df.user_type.value_counts().index)\n",
    "\n",
    "total = len(df)\n",
    "for p in ax.patches:\n",
    "    percentage = '{:.3f}%'.format(100 * p.get_height()/total)\n",
    "    x = p.get_x() + p.get_width()/2\n",
    "    y = p.get_height()+.05\n",
    "    ax.annotate(percentage, (x, y),ha='center')\n",
    "plt.xlabel('User Type')\n",
    "plt.title('Ride Frequency by User Type');"
   ]
  },
  {
   "cell_type": "markdown",
   "metadata": {
    "slideshow": {
     "slide_type": "subslide"
    }
   },
   "source": [
    "#### Based on the figure above, it can be observed that subscribers make up 90% of the total bike rides."
   ]
  },
  {
   "cell_type": "markdown",
   "metadata": {
    "slideshow": {
     "slide_type": "slide"
    }
   },
   "source": [
    "### Distribution of Rides by Days"
   ]
  },
  {
   "cell_type": "code",
   "execution_count": 11,
   "metadata": {
    "slideshow": {
     "slide_type": "subslide"
    }
   },
   "outputs": [
    {
     "data": {
      "image/png": "[encoded data removed]",
      "text/plain": [
       "<Figure size 720x504 with 1 Axes>"
      ]
     },
     "metadata": {
      "needs_background": "light"
     },
     "output_type": "display_data"
    }
   ],
   "source": [
    "plt.figure(figsize = (10,7))\n",
    "sns.countplot(data = df, x = 'day_of_ride', color = sns.color_palette()[0], order=['Monday','Tuesday','Wednesday','Thursday','Friday', 'Saturday', 'Sunday'])\n",
    "plt.xlabel('Days of the week')\n",
    "plt.title('Ride Frequency by Days');"
   ]
  },
  {
   "cell_type": "markdown",
   "metadata": {
    "slideshow": {
     "slide_type": "subslide"
    }
   },
   "source": [
    "#### The majority of bike rides took place on Thursdays and Tuesdays, with the lowest number of trips occurring on weekends."
   ]
  },
  {
   "cell_type": "markdown",
   "metadata": {
    "slideshow": {
     "slide_type": "slide"
    }
   },
   "source": [
    "### Distribution of Rides by start hour"
   ]
  },
  {
   "cell_type": "code",
   "execution_count": 12,
   "metadata": {
    "slideshow": {
     "slide_type": "subslide"
    }
   },
   "outputs": [
    {
     "data": {
      "image/png": "[encoded data removed]",
      "text/plain": [
       "<Figure size 720x504 with 1 Axes>"
      ]
     },
     "metadata": {
      "needs_background": "light"
     },
     "output_type": "display_data"
    }
   ],
   "source": [
    "plt.figure(figsize = (10, 7))\n",
    "sns.countplot(data = df, x = 'start_hour', color = sns.color_palette()[0])\n",
    "plt.xlabel('Hours of the Day')\n",
    "plt.title('Ride Frequency by Hours');"
   ]
  },
  {
   "cell_type": "markdown",
   "metadata": {
    "slideshow": {
     "slide_type": "subslide"
    }
   },
   "source": [
    "#### The higher frequency of bike rides during the morning (between 8 and 9 am) and evening (between 5 and 6 pm) may be associated with rush hour periods when people commute to and from work."
   ]
  },
  {
   "cell_type": "markdown",
   "metadata": {
    "slideshow": {
     "slide_type": "slide"
    }
   },
   "source": [
    "### Checking the distribution of the duration of the rides according to the day of ride"
   ]
  },
  {
   "cell_type": "code",
   "execution_count": 13,
   "metadata": {
    "slideshow": {
     "slide_type": "subslide"
    }
   },
   "outputs": [
    {
     "data": {
      "image/png": "[encoded data removed]",
      "text/plain": [
       "<Figure size 720x504 with 1 Axes>"
      ]
     },
     "metadata": {
      "needs_background": "light"
     },
     "output_type": "display_data"
    }
   ],
   "source": [
    "plt.figure(figsize=[10, 7])\n",
    "vis_data = df.sample(5000)\n",
    "\n",
    "default_color = sns.color_palette()[0]\n",
    "\n",
    "g = sns.boxplot(data = vis_data, y= 'duration_sec', x =  'day_of_ride', color=default_color, order=['Monday','Tuesday','Wednesday','Thursday','Friday', 'Saturday', 'Sunday'])\n",
    "\n",
    "g.tick_params(axis=\"x\", rotation=30)\n",
    "plt.ylim([0,3000])\n",
    "plt.xlabel('Day of Ride')\n",
    "plt.ylabel('Duration (Sec)')\n",
    "plt.title('Trip Duration according to The day of ride');"
   ]
  },
  {
   "cell_type": "markdown",
   "metadata": {
    "slideshow": {
     "slide_type": "subslide"
    }
   },
   "source": [
    "#### Thursdays and Tuesdays had the highest number of bike rides, while weekends had the lowest number of trip records."
   ]
  },
  {
   "cell_type": "markdown",
   "metadata": {
    "slideshow": {
     "slide_type": "slide"
    }
   },
   "source": [
    "### Checking the distribution of the duration of the rides according to user type"
   ]
  },
  {
   "cell_type": "code",
   "execution_count": 14,
   "metadata": {
    "slideshow": {
     "slide_type": "subslide"
    }
   },
   "outputs": [
    {
     "data": {
      "image/png": "[encoded data removed]",
      "text/plain": [
       "<Figure size 720x504 with 1 Axes>"
      ]
     },
     "metadata": {
      "needs_background": "light"
     },
     "output_type": "display_data"
    }
   ],
   "source": [
    "plt.figure(figsize=[10, 7])\n",
    "vis_data = df.sample(5000)\n",
    "\n",
    "default_color = sns.color_palette()[0]\n",
    "\n",
    "g = sns.boxplot(data = vis_data, y= 'duration_sec', x =  'user_type', color=default_color)\n",
    "\n",
    "g.tick_params(axis=\"x\", rotation=30)\n",
    "plt.ylim([0,3000])\n",
    "plt.xlabel('User Type')\n",
    "plt.ylabel('Duration (Sec)')\n",
    "plt.title('Trip Duration according to the User Type');"
   ]
  },
  {
   "cell_type": "markdown",
   "metadata": {
    "slideshow": {
     "slide_type": "subslide"
    }
   },
   "source": [
    "#### In general, customers have longer trip durations compared to subscribers."
   ]
  },
  {
   "cell_type": "markdown",
   "metadata": {
    "slideshow": {
     "slide_type": "slide"
    }
   },
   "source": [
    "### Duration of Trips across user types and days of the week"
   ]
  },
  {
   "cell_type": "code",
   "execution_count": 15,
   "metadata": {
    "slideshow": {
     "slide_type": "subslide"
    }
   },
   "outputs": [
    {
     "data": {
      "image/png": "[encoded data removed]",
      "text/plain": [
       "<Figure size 720x504 with 1 Axes>"
      ]
     },
     "metadata": {
      "needs_background": "light"
     },
     "output_type": "display_data"
    }
   ],
   "source": [
    "fig = plt.figure(figsize=[10, 7])\n",
    "g = sns.pointplot(data = df, x ='day_of_ride', y = 'duration_sec', hue = 'user_type',\n",
    "           palette = 'Blues', linestyles = '', dodge = 0.4, order=['Monday','Tuesday','Wednesday','Thursday','Friday', 'Saturday', 'Sunday'])\n",
    "plt.xlabel('User Type')\n",
    "plt.ylabel('Days of the Week')\n",
    "plt.title('Trip Duration per User Type')\n",
    "g.tick_params(axis=\"x\", rotation=90)\n",
    "g.set_yticklabels([],minor = True);"
   ]
  },
  {
   "cell_type": "markdown",
   "metadata": {
    "slideshow": {
     "slide_type": "subslide"
    }
   },
   "source": [
    "#### On average, customers have longer trip durations than subscribers, with the longest durations occurring on weekends. Although subscribers tend to travel shorter distances overall, there is a slight increase in distance on weekends, but not as much as seen with customers."
   ]
  },
  {
   "cell_type": "markdown",
   "metadata": {
    "slideshow": {
     "slide_type": "skip"
    }
   },
   "source": [
    "### Generating Slideshow"
   ]
  },
  {
   "cell_type": "code",
   "execution_count": 16,
   "metadata": {
    "slideshow": {
     "slide_type": "skip"
    }
   },
   "outputs": [
    {
     "name": "stderr",
     "output_type": "stream",
     "text": [
      "[NbConvertApp] Converting notebook Edidiong_Explanatory_Analysis.ipynb to slides\n",
      "[NbConvertApp] Writing 409179 bytes to Edidiong_Explanatory_Analysis.slides.html\n",
      "[NbConvertApp] Redirecting reveal.js requests to https://cdnjs.cloudflare.com/ajax/libs/reveal.js/3.5.0\n",
      "Traceback (most recent call last):\n",
      "  File \"c:\\users\\emmyvera\\appdata\\local\\programs\\python\\python37\\lib\\runpy.py\", line 193, in _run_module_as_main\n",
      "    \"__main__\", mod_spec)\n",
      "  File \"c:\\users\\emmyvera\\appdata\\local\\programs\\python\\python37\\lib\\runpy.py\", line 85, in _run_code\n",
      "    exec(code, run_globals)\n",
      "  File \"C:\\Users\\Emmyvera\\AppData\\Local\\Programs\\Python\\Python37\\Scripts\\jupyter-nbconvert.EXE\\__main__.py\", line 9, in <module>\n",
      "  File \"c:\\users\\emmyvera\\appdata\\local\\programs\\python\\python37\\lib\\site-packages\\jupyter_core\\application.py\", line 266, in launch_instance\n",
      "    return super(JupyterApp, cls).launch_instance(argv=argv, **kwargs)\n",
      "  File \"c:\\users\\emmyvera\\appdata\\local\\programs\\python\\python37\\lib\\site-packages\\traitlets\\config\\application.py\", line 658, in launch_instance\n",
      "    app.start()\n",
      "  File \"c:\\users\\emmyvera\\appdata\\local\\programs\\python\\python37\\lib\\site-packages\\nbconvert\\nbconvertapp.py\", line 337, in start\n",
      "    self.convert_notebooks()\n",
      "  File \"c:\\users\\emmyvera\\appdata\\local\\programs\\python\\python37\\lib\\site-packages\\nbconvert\\nbconvertapp.py\", line 507, in convert_notebooks\n",
      "    self.convert_single_notebook(notebook_filename)\n",
      "  File \"c:\\users\\emmyvera\\appdata\\local\\programs\\python\\python37\\lib\\site-packages\\nbconvert\\nbconvertapp.py\", line 480, in convert_single_notebook\n",
      "    self.postprocess_single_notebook(write_results)\n",
      "  File \"c:\\users\\emmyvera\\appdata\\local\\programs\\python\\python37\\lib\\site-packages\\nbconvert\\nbconvertapp.py\", line 452, in postprocess_single_notebook\n",
      "    self.postprocessor(write_results)\n",
      "  File \"c:\\users\\emmyvera\\appdata\\local\\programs\\python\\python37\\lib\\site-packages\\nbconvert\\postprocessors\\base.py\", line 28, in __call__\n",
      "    self.postprocess(input)\n",
      "  File \"c:\\users\\emmyvera\\appdata\\local\\programs\\python\\python37\\lib\\site-packages\\nbconvert\\postprocessors\\serve.py\", line 95, in postprocess\n",
      "    http_server.listen(self.port, address=self.ip)\n",
      "  File \"c:\\users\\emmyvera\\appdata\\local\\programs\\python\\python37\\lib\\site-packages\\tornado\\tcpserver.py\", line 143, in listen\n",
      "    sockets = bind_sockets(port, address=address)\n",
      "  File \"c:\\users\\emmyvera\\appdata\\local\\programs\\python\\python37\\lib\\site-packages\\tornado\\netutil.py\", line 168, in bind_sockets\n",
      "    sock.bind(sockaddr)\n",
      "OSError: [WinError 10048] Only one usage of each socket address (protocol/network address/port) is normally permitted\n"
     ]
    }
   ],
   "source": [
    "!jupyter nbconvert Edidiong_Explanatory_Analysis.ipynb --to slides --post serve --no-input --no-prompt"
   ]
  },
  {
   "cell_type": "code",
   "execution_count": null,
   "metadata": {
    "slideshow": {
     "slide_type": "skip"
    }
   },
   "outputs": [],
   "source": []
  }
 ],
 "metadata": {
  "celltoolbar": "Slideshow",
  "kernelspec": {
   "display_name": "Python 3",
   "language": "python",
   "name": "python3"
  },
  "language_info": {
   "codemirror_mode": {
    "name": "ipython",
    "version": 3
   },
   "file_extension": ".py",
   "mimetype": "text/x-python",
   "name": "python",
   "nbconvert_exporter": "python",
   "pygments_lexer": "ipython3",
   "version": "3.7.0"
  }
 },
 "nbformat": 4,
 "nbformat_minor": 5
}
